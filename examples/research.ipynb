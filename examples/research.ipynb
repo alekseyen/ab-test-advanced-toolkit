{
 "cells": [
  {
   "cell_type": "code",
   "execution_count": 1,
   "metadata": {},
   "outputs": [],
   "source": [
    "import sys\n",
    "sys.path.append(\"../\")"
   ]
  },
  {
   "cell_type": "code",
   "execution_count": 2,
   "metadata": {},
   "outputs": [],
   "source": [
    "import numpy as np\n",
    "from experiment_analysis import analyze_multiple_metrics, analyze_pairwise_metrics"
   ]
  },
  {
   "cell_type": "code",
   "execution_count": 3,
   "metadata": {},
   "outputs": [],
   "source": [
    "fixed_params = {\n",
    "    'num_users': 10000,\n",
    "    'countries': ['US', 'UK', 'DE', 'FR', 'CA', 'AU', 'JP', 'IN'],\n",
    "    'platforms': ['iOS', 'Android', 'Web', 'Desktop'],\n",
    "    'user_segments': ['Segment_1', 'Segment_2', 'Segment_3', 'Segment_4'],\n",
    "    'ab_groups': ['a1', 'a2', 'b'],\n",
    "    'noise_level': 1.0,\n",
    "    'base_increase_percentage': 0.05,\n",
    "    'correlation_level': 0.5,\n",
    "}\n",
    "\n",
    "values_ranges = {\n",
    "    'num_users': range(100, 10000, 500),\n",
    "    'noise_level': np.arange(0.1, 2.0, 0.1),\n",
    "    'base_increase_percentage': np.arange(0.01, 0.1, 0.01),\n",
    "    'correlation_level': np.arange(0.0, 1.1, 0.1)\n",
    "}"
   ]
  },
  {
   "cell_type": "code",
   "execution_count": null,
   "metadata": {},
   "outputs": [],
   "source": [
    "analyze_multiple_metrics(values_ranges, fixed_params)"
   ]
  },
  {
   "cell_type": "code",
   "execution_count": 4,
   "metadata": {},
   "outputs": [],
   "source": [
    "variable_pairs = [\n",
    "    ('num_users', 'noise_level'),\n",
    "    ('num_users', 'base_increase_percentage'),\n",
    "    ('num_users', 'correlation_level'),\n",
    "    ('noise_level', 'base_increase_percentage'),\n",
    "    ('noise_level', 'correlation_level'),\n",
    "    ('base_increase_percentage', 'correlation_level')\n",
    "]"
   ]
  },
  {
   "cell_type": "code",
   "execution_count": 5,
   "metadata": {},
   "outputs": [
    {
     "name": "stdout",
     "output_type": "stream",
     "text": [
      "Analyzing pair (num_users, noise_level)...\n"
     ]
    },
    {
     "name": "stderr",
     "output_type": "stream",
     "text": [
      "  5%|▌         | 1/20 [01:13<23:15, 73.44s/it]"
     ]
    }
   ],
   "source": [
    "analyze_pairwise_metrics(variable_pairs, values_ranges, fixed_params)"
   ]
  },
  {
   "cell_type": "code",
   "execution_count": null,
   "metadata": {},
   "outputs": [],
   "source": []
  }
 ],
 "metadata": {
  "kernelspec": {
   "display_name": "Python 3",
   "language": "python",
   "name": "python3"
  },
  "language_info": {
   "codemirror_mode": {
    "name": "ipython",
    "version": 3
   },
   "file_extension": ".py",
   "mimetype": "text/x-python",
   "name": "python",
   "nbconvert_exporter": "python",
   "pygments_lexer": "ipython3",
   "version": "3.11.8"
  }
 },
 "nbformat": 4,
 "nbformat_minor": 2
}
