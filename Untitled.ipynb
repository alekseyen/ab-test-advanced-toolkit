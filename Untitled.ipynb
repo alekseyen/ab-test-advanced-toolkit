{
 "cells": [
  {
   "cell_type": "code",
   "execution_count": 78,
   "id": "2a263e4d-44c1-44c5-baac-627f88d3655e",
   "metadata": {},
   "outputs": [],
   "source": [
    "import pandas as pd\n",
    "\n",
    "from typing import Tuple, List, Optional\n",
    "\n",
    "import pandas as pd\n",
    "\n",
    "from variatio.data_validation import validate_data\n",
    "from variatio.metrics import Metric, MetricType, MetricParams, MetricResult, AggregationOperation\n",
    "from variatio.stat_significance import StatTests\n",
    "from variatio.vizualizer import format_metrics_to_html\n",
    "\n",
    "\n",
    "from variatio.analyzer import *\n",
    "\n",
    "\n",
    "import numpy as np"
   ]
  },
  {
   "cell_type": "code",
   "execution_count": null,
   "id": "5ce1d6eb-0605-4ba0-a556-bfb436664df4",
   "metadata": {},
   "outputs": [],
   "source": []
  },
  {
   "cell_type": "code",
   "execution_count": 79,
   "id": "4711a1d7-8d39-44b0-883b-c5a7b7bfbd0b",
   "metadata": {},
   "outputs": [],
   "source": [
    "def create_dataframes(df):\n",
    "    # Create 'event_data' DataFrame simulating purchase events using 'value'\n",
    "    event_data1 = pd.DataFrame({\n",
    "        \"timestamp\": pd.to_datetime([\"2022-12-10\"] * len(df)),\n",
    "        \"userid\": df[\"userid\"],\n",
    "        \"event_name\": [\"purchase\"] * len(df),\n",
    "        \"purchase_value\": df[\"value\"]\n",
    "    })\n",
    "\n",
    "    event_data2 = pd.DataFrame({\n",
    "        \"timestamp\": pd.to_datetime([\"2022-12-01\"] * len(df)),\n",
    "        \"userid\": df[\"userid\"],\n",
    "        \"event_name\": [\"purchase\"] * len(df),\n",
    "        \"purchase_value\": df[\"pre_test_value\"]\n",
    "    })\n",
    "    \n",
    "    # Create 'user_allocations' DataFrame\n",
    "    user_allocations = pd.DataFrame({\n",
    "        \"timestamp\": pd.to_datetime([\"2022-12-05\"] * len(df)),\n",
    "        \"userid\": df[\"userid\"],\n",
    "        \"abgroup\": df[\"abgroup\"]\n",
    "    })\n",
    "    \n",
    "    # Create 'user_properties' DataFrame\n",
    "    user_properties = pd.DataFrame({\n",
    "        \"userid\": df[\"userid\"],\n",
    "        \"age\": df[\"age\"],\n",
    "        \"country\": df[\"country\"],\n",
    "        \"device_type\": df[\"platform\"],  # Simplified mapping\n",
    "        \"membership_status\": [\"Free\"] * len(df)  # Placeholder value\n",
    "    })\n",
    "    event_data = pd.concat([event_data1, event_data2])\n",
    "    event_data['timestamp'] = pd.to_datetime(event_data['timestamp'])\n",
    "    \n",
    "    return event_data, user_allocations, user_properties\n"
   ]
  },
  {
   "cell_type": "code",
   "execution_count": 81,
   "id": "e01b1177-f5f2-4b0e-a6cc-69ba07a9ba0f",
   "metadata": {},
   "outputs": [
    {
     "data": {
      "text/plain": [
       "array([[1.        , 0.09386146],\n",
       "       [0.09386146, 1.        ]])"
      ]
     },
     "execution_count": 81,
     "metadata": {},
     "output_type": "execute_result"
    }
   ],
   "source": [
    "np.corrcoef(df['value'], df['pre_test_value'])"
   ]
  },
  {
   "cell_type": "code",
   "execution_count": 68,
   "id": "121772b8-f208-46bb-bb4c-97aa4b8d9c4e",
   "metadata": {},
   "outputs": [
    {
     "name": "stdout",
     "output_type": "stream",
     "text": [
      "100000\n"
     ]
    }
   ],
   "source": [
    "df = pd.read_csv(\"0_generated_data.csv\")\n",
    "print(len(df))\n",
    "df = df.iloc[: 20000]"
   ]
  },
  {
   "cell_type": "code",
   "execution_count": 69,
   "id": "208414e3-9bae-4451-9f78-38947d2517b1",
   "metadata": {},
   "outputs": [
    {
     "data": {
      "text/html": [
       "<div>\n",
       "<style scoped>\n",
       "    .dataframe tbody tr th:only-of-type {\n",
       "        vertical-align: middle;\n",
       "    }\n",
       "\n",
       "    .dataframe tbody tr th {\n",
       "        vertical-align: top;\n",
       "    }\n",
       "\n",
       "    .dataframe thead th {\n",
       "        text-align: right;\n",
       "    }\n",
       "</style>\n",
       "<table border=\"1\" class=\"dataframe\">\n",
       "  <thead>\n",
       "    <tr style=\"text-align: right;\">\n",
       "      <th></th>\n",
       "      <th>userid</th>\n",
       "      <th>country</th>\n",
       "      <th>platform</th>\n",
       "      <th>user_segment</th>\n",
       "      <th>abgroup</th>\n",
       "      <th>age</th>\n",
       "      <th>engagement_score</th>\n",
       "      <th>country_idx</th>\n",
       "      <th>platform_idx</th>\n",
       "      <th>segment_idx</th>\n",
       "      <th>per_user_component</th>\n",
       "      <th>value</th>\n",
       "      <th>pre_test_value</th>\n",
       "    </tr>\n",
       "  </thead>\n",
       "  <tbody>\n",
       "    <tr>\n",
       "      <th>0</th>\n",
       "      <td>1</td>\n",
       "      <td>JP</td>\n",
       "      <td>iOS</td>\n",
       "      <td>Segment_2</td>\n",
       "      <td>a2</td>\n",
       "      <td>33</td>\n",
       "      <td>5.119263</td>\n",
       "      <td>0</td>\n",
       "      <td>0</td>\n",
       "      <td>1</td>\n",
       "      <td>1.042619</td>\n",
       "      <td>18.827950</td>\n",
       "      <td>19.827209</td>\n",
       "    </tr>\n",
       "    <tr>\n",
       "      <th>1</th>\n",
       "      <td>2</td>\n",
       "      <td>FR</td>\n",
       "      <td>Android</td>\n",
       "      <td>Segment_1</td>\n",
       "      <td>b</td>\n",
       "      <td>40</td>\n",
       "      <td>9.991298</td>\n",
       "      <td>0</td>\n",
       "      <td>1</td>\n",
       "      <td>0</td>\n",
       "      <td>0.940335</td>\n",
       "      <td>2.749520</td>\n",
       "      <td>19.118973</td>\n",
       "    </tr>\n",
       "    <tr>\n",
       "      <th>2</th>\n",
       "      <td>3</td>\n",
       "      <td>IN</td>\n",
       "      <td>Android</td>\n",
       "      <td>Segment_4</td>\n",
       "      <td>a2</td>\n",
       "      <td>25</td>\n",
       "      <td>3.712433</td>\n",
       "      <td>1</td>\n",
       "      <td>1</td>\n",
       "      <td>3</td>\n",
       "      <td>1.051917</td>\n",
       "      <td>38.103762</td>\n",
       "      <td>20.542199</td>\n",
       "    </tr>\n",
       "    <tr>\n",
       "      <th>3</th>\n",
       "      <td>4</td>\n",
       "      <td>AU</td>\n",
       "      <td>Web</td>\n",
       "      <td>Segment_2</td>\n",
       "      <td>a2</td>\n",
       "      <td>57</td>\n",
       "      <td>0.093958</td>\n",
       "      <td>2</td>\n",
       "      <td>0</td>\n",
       "      <td>1</td>\n",
       "      <td>0.989763</td>\n",
       "      <td>164.068516</td>\n",
       "      <td>22.442407</td>\n",
       "    </tr>\n",
       "    <tr>\n",
       "      <th>4</th>\n",
       "      <td>5</td>\n",
       "      <td>US</td>\n",
       "      <td>Android</td>\n",
       "      <td>Segment_1</td>\n",
       "      <td>b</td>\n",
       "      <td>33</td>\n",
       "      <td>8.160480</td>\n",
       "      <td>0</td>\n",
       "      <td>1</td>\n",
       "      <td>0</td>\n",
       "      <td>1.039390</td>\n",
       "      <td>120.973807</td>\n",
       "      <td>23.418094</td>\n",
       "    </tr>\n",
       "  </tbody>\n",
       "</table>\n",
       "</div>"
      ],
      "text/plain": [
       "   userid country platform user_segment abgroup  age  engagement_score  \\\n",
       "0       1      JP      iOS    Segment_2      a2   33          5.119263   \n",
       "1       2      FR  Android    Segment_1       b   40          9.991298   \n",
       "2       3      IN  Android    Segment_4      a2   25          3.712433   \n",
       "3       4      AU      Web    Segment_2      a2   57          0.093958   \n",
       "4       5      US  Android    Segment_1       b   33          8.160480   \n",
       "\n",
       "   country_idx  platform_idx  segment_idx  per_user_component       value  \\\n",
       "0            0             0            1            1.042619   18.827950   \n",
       "1            0             1            0            0.940335    2.749520   \n",
       "2            1             1            3            1.051917   38.103762   \n",
       "3            2             0            1            0.989763  164.068516   \n",
       "4            0             1            0            1.039390  120.973807   \n",
       "\n",
       "   pre_test_value  \n",
       "0       19.827209  \n",
       "1       19.118973  \n",
       "2       20.542199  \n",
       "3       22.442407  \n",
       "4       23.418094  "
      ]
     },
     "execution_count": 69,
     "metadata": {},
     "output_type": "execute_result"
    }
   ],
   "source": [
    "df.head()"
   ]
  },
  {
   "cell_type": "code",
   "execution_count": null,
   "id": "e52872e3-c753-4fa9-9a90-63b09071edb5",
   "metadata": {},
   "outputs": [],
   "source": []
  },
  {
   "cell_type": "code",
   "execution_count": 70,
   "id": "366034d9-e527-4844-ba95-2a8366704f04",
   "metadata": {},
   "outputs": [
    {
     "data": {
      "text/plain": [
       "{'a1', 'a2', 'b'}"
      ]
     },
     "execution_count": 70,
     "metadata": {},
     "output_type": "execute_result"
    }
   ],
   "source": [
    "set(df['abgroup'])"
   ]
  },
  {
   "cell_type": "code",
   "execution_count": 71,
   "id": "f0ca9d5c-cd86-460a-8b13-a4297820e18d",
   "metadata": {},
   "outputs": [],
   "source": [
    "event_data, user_allocations, user_properties = create_dataframes(df)\n"
   ]
  },
  {
   "cell_type": "code",
   "execution_count": 72,
   "id": "90d21d05-d69c-4bd8-9691-c94e2b10567b",
   "metadata": {},
   "outputs": [
    {
     "data": {
      "text/html": [
       "<div>\n",
       "<style scoped>\n",
       "    .dataframe tbody tr th:only-of-type {\n",
       "        vertical-align: middle;\n",
       "    }\n",
       "\n",
       "    .dataframe tbody tr th {\n",
       "        vertical-align: top;\n",
       "    }\n",
       "\n",
       "    .dataframe thead th {\n",
       "        text-align: right;\n",
       "    }\n",
       "</style>\n",
       "<table border=\"1\" class=\"dataframe\">\n",
       "  <thead>\n",
       "    <tr style=\"text-align: right;\">\n",
       "      <th></th>\n",
       "      <th>timestamp</th>\n",
       "      <th>userid</th>\n",
       "      <th>event_name</th>\n",
       "      <th>purchase_value</th>\n",
       "    </tr>\n",
       "  </thead>\n",
       "  <tbody>\n",
       "    <tr>\n",
       "      <th>0</th>\n",
       "      <td>2022-12-10</td>\n",
       "      <td>1</td>\n",
       "      <td>purchase</td>\n",
       "      <td>18.827950</td>\n",
       "    </tr>\n",
       "    <tr>\n",
       "      <th>1</th>\n",
       "      <td>2022-12-10</td>\n",
       "      <td>2</td>\n",
       "      <td>purchase</td>\n",
       "      <td>2.749520</td>\n",
       "    </tr>\n",
       "    <tr>\n",
       "      <th>2</th>\n",
       "      <td>2022-12-10</td>\n",
       "      <td>3</td>\n",
       "      <td>purchase</td>\n",
       "      <td>38.103762</td>\n",
       "    </tr>\n",
       "    <tr>\n",
       "      <th>3</th>\n",
       "      <td>2022-12-10</td>\n",
       "      <td>4</td>\n",
       "      <td>purchase</td>\n",
       "      <td>164.068516</td>\n",
       "    </tr>\n",
       "    <tr>\n",
       "      <th>4</th>\n",
       "      <td>2022-12-10</td>\n",
       "      <td>5</td>\n",
       "      <td>purchase</td>\n",
       "      <td>120.973807</td>\n",
       "    </tr>\n",
       "    <tr>\n",
       "      <th>...</th>\n",
       "      <td>...</td>\n",
       "      <td>...</td>\n",
       "      <td>...</td>\n",
       "      <td>...</td>\n",
       "    </tr>\n",
       "    <tr>\n",
       "      <th>19995</th>\n",
       "      <td>2022-12-01</td>\n",
       "      <td>19996</td>\n",
       "      <td>purchase</td>\n",
       "      <td>13.992818</td>\n",
       "    </tr>\n",
       "    <tr>\n",
       "      <th>19996</th>\n",
       "      <td>2022-12-01</td>\n",
       "      <td>19997</td>\n",
       "      <td>purchase</td>\n",
       "      <td>13.441233</td>\n",
       "    </tr>\n",
       "    <tr>\n",
       "      <th>19997</th>\n",
       "      <td>2022-12-01</td>\n",
       "      <td>19998</td>\n",
       "      <td>purchase</td>\n",
       "      <td>19.057411</td>\n",
       "    </tr>\n",
       "    <tr>\n",
       "      <th>19998</th>\n",
       "      <td>2022-12-01</td>\n",
       "      <td>19999</td>\n",
       "      <td>purchase</td>\n",
       "      <td>15.670144</td>\n",
       "    </tr>\n",
       "    <tr>\n",
       "      <th>19999</th>\n",
       "      <td>2022-12-01</td>\n",
       "      <td>20000</td>\n",
       "      <td>purchase</td>\n",
       "      <td>21.961628</td>\n",
       "    </tr>\n",
       "  </tbody>\n",
       "</table>\n",
       "<p>40000 rows × 4 columns</p>\n",
       "</div>"
      ],
      "text/plain": [
       "       timestamp  userid event_name  purchase_value\n",
       "0     2022-12-10       1   purchase       18.827950\n",
       "1     2022-12-10       2   purchase        2.749520\n",
       "2     2022-12-10       3   purchase       38.103762\n",
       "3     2022-12-10       4   purchase      164.068516\n",
       "4     2022-12-10       5   purchase      120.973807\n",
       "...          ...     ...        ...             ...\n",
       "19995 2022-12-01   19996   purchase       13.992818\n",
       "19996 2022-12-01   19997   purchase       13.441233\n",
       "19997 2022-12-01   19998   purchase       19.057411\n",
       "19998 2022-12-01   19999   purchase       15.670144\n",
       "19999 2022-12-01   20000   purchase       21.961628\n",
       "\n",
       "[40000 rows x 4 columns]"
      ]
     },
     "execution_count": 72,
     "metadata": {},
     "output_type": "execute_result"
    }
   ],
   "source": [
    "event_data"
   ]
  },
  {
   "cell_type": "code",
   "execution_count": null,
   "id": "984c306d-730e-48c7-ae24-b23de045f05e",
   "metadata": {},
   "outputs": [],
   "source": []
  },
  {
   "cell_type": "code",
   "execution_count": null,
   "id": "345898fb-0341-4d55-8b82-5bdcc0605b16",
   "metadata": {},
   "outputs": [],
   "source": []
  },
  {
   "cell_type": "code",
   "execution_count": 73,
   "id": "43b5af8f-4eb1-45ec-8bd4-9ca6474bbf50",
   "metadata": {},
   "outputs": [],
   "source": [
    "from variatio import VariatioAnalyzer\n",
    "import pandas as pd\n",
    "analyzer = VariatioAnalyzer(event_data, user_allocations, \"a1\", user_properties)"
   ]
  },
  {
   "cell_type": "code",
   "execution_count": null,
   "id": "f4618284-23c9-4508-b83b-11cb1f25880a",
   "metadata": {},
   "outputs": [],
   "source": []
  },
  {
   "cell_type": "code",
   "execution_count": 74,
   "id": "56db0e1c-25e5-45d1-b692-37c769f09c9c",
   "metadata": {},
   "outputs": [
    {
     "name": "stdout",
     "output_type": "stream",
     "text": [
      "merged pretest\n",
      "       abgroup  purchase_value\n",
      "userid                        \n",
      "1           a2       19.827209\n",
      "2            b       19.118973\n",
      "3           a2       20.542199\n",
      "4           a2       22.442407\n",
      "5            b       23.418094\n",
      "...        ...             ...\n",
      "19996        b       13.992818\n",
      "19997       a1       13.441233\n",
      "19998       a1       19.057411\n",
      "19999        b       15.670144\n",
      "20000       a1       21.961628\n",
      "\n",
      "[20000 rows x 2 columns]\n",
      "result_intest\n",
      "       abgroup  purchase_value\n",
      "userid                        \n",
      "1           a2       18.827950\n",
      "2            b        2.749520\n",
      "3           a2       38.103762\n",
      "4           a2      164.068516\n",
      "5            b      120.973807\n",
      "...        ...             ...\n",
      "19996        b      112.079070\n",
      "19997       a1       60.601378\n",
      "19998       a1       36.445046\n",
      "19999        b       70.913497\n",
      "20000       a1       93.500610\n",
      "\n",
      "[20000 rows x 2 columns]\n",
      "use_enhansement False\n"
     ]
    },
    {
     "data": {
      "text/plain": [
       "(         purchase_value\n",
       " abgroup                \n",
       " a1           127.659983\n",
       " a2           128.211856\n",
       " b            136.537016,\n",
       " StatSignificanceResult(method_used=StatSignificanceMethod.CATBOOST_CUPED_T_TEST, p_values=[0.7481045752403999, 3.729498973391336e-07]))"
      ]
     },
     "execution_count": 74,
     "metadata": {},
     "output_type": "execute_result"
    }
   ],
   "source": [
    "analyzer.calculate_event_attribute_sum_per_user('purchase', 'purchase_value', \"no_enhancement\")\n"
   ]
  },
  {
   "cell_type": "code",
   "execution_count": 75,
   "id": "99a07bbe-a322-4648-9339-0e42eb8d5ed5",
   "metadata": {},
   "outputs": [
    {
     "name": "stdout",
     "output_type": "stream",
     "text": [
      "merged pretest\n",
      "       abgroup  purchase_value\n",
      "userid                        \n",
      "1           a2       19.827209\n",
      "2            b       19.118973\n",
      "3           a2       20.542199\n",
      "4           a2       22.442407\n",
      "5            b       23.418094\n",
      "...        ...             ...\n",
      "19996        b       13.992818\n",
      "19997       a1       13.441233\n",
      "19998       a1       19.057411\n",
      "19999        b       15.670144\n",
      "20000       a1       21.961628\n",
      "\n",
      "[20000 rows x 2 columns]\n",
      "result_intest\n",
      "       abgroup  purchase_value\n",
      "userid                        \n",
      "1           a2       18.827950\n",
      "2            b        2.749520\n",
      "3           a2       38.103762\n",
      "4           a2      164.068516\n",
      "5            b      120.973807\n",
      "...        ...             ...\n",
      "19996        b      112.079070\n",
      "19997       a1       60.601378\n",
      "19998       a1       36.445046\n",
      "19999        b       70.913497\n",
      "20000       a1       93.500610\n",
      "\n",
      "[20000 rows x 2 columns]\n",
      "[[23.53881343]\n",
      " [18.50525087]\n",
      " [13.62103584]\n",
      " ...\n",
      " [13.44123271]\n",
      " [19.05741055]\n",
      " [21.96162845]] [ 72.1768745   57.4212697  199.19630393 ...  60.6013781   36.44504637\n",
      "  93.50061015]\n",
      "[1.04937253]\n"
     ]
    },
    {
     "data": {
      "text/plain": [
       "(         purchase_value\n",
       " abgroup                \n",
       " a1           127.659983\n",
       " a2           128.211856\n",
       " b            136.537016,\n",
       " StatSignificanceResult(method_used=StatSignificanceMethod.PURE_CUPED_T_TEST, p_values=[0.8024137272477632, 4.2898694799530873e-07]))"
      ]
     },
     "execution_count": 75,
     "metadata": {},
     "output_type": "execute_result"
    }
   ],
   "source": [
    "analyzer.calculate_event_attribute_sum_per_user('purchase', 'purchase_value', \"cuped\")\n"
   ]
  },
  {
   "cell_type": "code",
   "execution_count": 76,
   "id": "28b29edb-8d94-4d36-bdc4-3801aa077cc2",
   "metadata": {},
   "outputs": [
    {
     "name": "stdout",
     "output_type": "stream",
     "text": [
      "merged pretest\n",
      "       abgroup  purchase_value\n",
      "userid                        \n",
      "1           a2       19.827209\n",
      "2            b       19.118973\n",
      "3           a2       20.542199\n",
      "4           a2       22.442407\n",
      "5            b       23.418094\n",
      "...        ...             ...\n",
      "19996        b       13.992818\n",
      "19997       a1       13.441233\n",
      "19998       a1       19.057411\n",
      "19999        b       15.670144\n",
      "20000       a1       21.961628\n",
      "\n",
      "[20000 rows x 2 columns]\n",
      "result_intest\n",
      "       abgroup  purchase_value\n",
      "userid                        \n",
      "1           a2       18.827950\n",
      "2            b        2.749520\n",
      "3           a2       38.103762\n",
      "4           a2      164.068516\n",
      "5            b      120.973807\n",
      "...        ...             ...\n",
      "19996        b      112.079070\n",
      "19997       a1       60.601378\n",
      "19998       a1       36.445046\n",
      "19999        b       70.913497\n",
      "20000       a1       93.500610\n",
      "\n",
      "[20000 rows x 2 columns]\n",
      "use_enhansement True\n",
      "      userid  purchase_value  age country device_type membership_status\n",
      "0          9       23.538813   54      CA         iOS              Free\n",
      "1         13       18.505251   34      IN     Desktop              Free\n",
      "2         15       13.621036   61      IN         Web              Free\n",
      "3         19       16.384846   21      UK     Desktop              Free\n",
      "4         20       22.634096   42      US     Desktop              Free\n",
      "...      ...             ...  ...     ...         ...               ...\n",
      "6618   19992       12.128220   18      UK         Web              Free\n",
      "6619   19994       21.472544   55      JP     Desktop              Free\n",
      "6620   19997       13.441233   37      AU         Web              Free\n",
      "6621   19998       19.057411   54      DE     Desktop              Free\n",
      "6622   20000       21.961628   35      US         iOS              Free\n",
      "\n",
      "[6623 rows x 6 columns]\n",
      "userid\n",
      "9         72.176874\n",
      "13        57.421270\n",
      "15       199.196304\n",
      "19       124.082149\n",
      "20       175.547954\n",
      "            ...    \n",
      "19992     35.999832\n",
      "19994     -7.568828\n",
      "19997     60.601378\n",
      "19998     36.445046\n",
      "20000     93.500610\n",
      "Name: purchase_value, Length: 6623, dtype: float64\n",
      "model wast\n"
     ]
    },
    {
     "data": {
      "text/plain": [
       "(         purchase_value\n",
       " abgroup                \n",
       " a1           127.659983\n",
       " a2           128.211856\n",
       " b            136.537016,\n",
       " StatSignificanceResult(method_used=StatSignificanceMethod.CATBOOST_CUPED_T_TEST, p_values=[0.48990671318935286, 3.0054448102662935e-10]))"
      ]
     },
     "execution_count": 76,
     "metadata": {},
     "output_type": "execute_result"
    }
   ],
   "source": [
    "analyzer.calculate_event_attribute_sum_per_user('purchase', 'purchase_value', \"catboost_cuped\")\n"
   ]
  },
  {
   "cell_type": "code",
   "execution_count": null,
   "id": "a0ebc710-7fa6-43e6-a7e1-0f02beeea1f0",
   "metadata": {},
   "outputs": [],
   "source": []
  },
  {
   "cell_type": "code",
   "execution_count": null,
   "id": "1ba0948e-6a27-467d-977f-8e77fa586302",
   "metadata": {},
   "outputs": [],
   "source": []
  },
  {
   "cell_type": "code",
   "execution_count": null,
   "id": "5d6daa7d-a9cc-4bfe-a30e-bcc2bc0fb5c9",
   "metadata": {},
   "outputs": [],
   "source": []
  },
  {
   "cell_type": "code",
   "execution_count": null,
   "id": "404b0307-25e4-401b-97c7-dfeb1df18cbf",
   "metadata": {},
   "outputs": [],
   "source": []
  }
 ],
 "metadata": {
  "kernelspec": {
   "display_name": "Python 3 (ipykernel)",
   "language": "python",
   "name": "python3"
  },
  "language_info": {
   "codemirror_mode": {
    "name": "ipython",
    "version": 3
   },
   "file_extension": ".py",
   "mimetype": "text/x-python",
   "name": "python",
   "nbconvert_exporter": "python",
   "pygments_lexer": "ipython3",
   "version": "3.11.6"
  }
 },
 "nbformat": 4,
 "nbformat_minor": 5
}
